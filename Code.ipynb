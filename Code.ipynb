{
  "nbformat": 4,
  "nbformat_minor": 0,
  "metadata": {
    "colab": {
      "provenance": [],
      "authorship_tag": "ABX9TyNmXyn6CH+UJ616FljP2EPJ",
      "include_colab_link": true
    },
    "kernelspec": {
      "name": "python3",
      "display_name": "Python 3"
    },
    "language_info": {
      "name": "python"
    }
  },
  "cells": [
    {
      "cell_type": "markdown",
      "metadata": {
        "id": "view-in-github",
        "colab_type": "text"
      },
      "source": [
        "<a href=\"https://colab.research.google.com/github/MaryamAbdulsalam09/Delivery-Management-System/blob/main/Code.ipynb\" target=\"_parent\"><img src=\"https://colab.research.google.com/assets/colab-badge.svg\" alt=\"Open In Colab\"/></a>"
      ]
    },
    {
      "cell_type": "code",
      "source": [
        "class Order:\n",
        "    \"\"\"Represents a customer's purchase order.\"\"\"\n",
        "    def __init__(self, order_id, customer, items, total_amount, status=\"Pending\"):\n",
        "#3.a.Constructor(__init__) and at least 5 attributes per class\n",
        "        self.__order_id = order_id\n",
        "        self.__customer = customer\n",
        "        self.__items = items\n",
        "        self.__total_amount = total_amount\n",
        "        self.__status = status\n",
        "\n",
        "#3.b.Required setter and getter methods\n",
        "    def get_order_id(self):\n",
        "        return self.__order_id\n",
        "\n",
        "    def set_status(self, new_status):\n",
        "        self.__status = new_status\n",
        "\n",
        "    def get_order_details(self):\n",
        "        return f\"Order {self.__order_id}: {self.__items}, Total: {self.__total_amount}, Status: {self.__status}\"\n",
        "\n",
        "#3.c.Other required function headers in the classes where the functions body is just a pass statement and include a comment to indicate what the function should achieve.\n",
        "    def cancel_order(self):\n",
        "        \"\"\"Cancel the order if it's still pending.\"\"\"\n",
        "        self.__status = \"Cancelled\"\n",
        "        print(f\"Order {self.__order_id} has been cancelled.\")\n",
        "\n",
        "class Customer:\n",
        "    \"\"\"Represents a customer in the system.\"\"\"\n",
        "    def __init__(self, name, contact, address):\n",
        "        self.__name = name\n",
        "        self.__contact = contact\n",
        "        self.__address = address\n",
        "\n",
        "    def get_name(self):\n",
        "        return self.__name\n",
        "\n",
        "    def get_contact(self):\n",
        "        return self.__contact\n",
        "\n",
        "    def get_address(self):\n",
        "        return self.__address\n",
        "\n",
        "class Delivery:\n",
        "    \"\"\"Handles delivery logistics.\"\"\"\n",
        "    def __init__(self, order_id, delivery_agent, eta, status=\"In Transit\"):\n",
        "        self.__order_id = order_id\n",
        "        self.__delivery_agent = delivery_agent\n",
        "        self.__eta = eta\n",
        "        self.__status = status\n",
        "\n",
        "    def update_status(self, new_status):\n",
        "        self.__status = new_status\n",
        "        print(f\"Delivery status updated to {self.__status} for Order {self.__order_id}.\")\n",
        "\n",
        "    def get_delivery_details(self):\n",
        "        return f\"Order {self.__order_id}: Assigned to {self.__delivery_agent}, ETA: {self.__eta}, Status: {self.__status}\"\n",
        "\n",
        "class DeliveryNote:\n",
        "    \"\"\"Stores delivery details and generates notes.\"\"\"\n",
        "    def __init__(self, note_id, order_details, timestamp):\n",
        "        self.__note_id = note_id\n",
        "        self.__order_details = order_details\n",
        "        self.__timestamp = timestamp\n",
        "\n",
        "    def generate_note(self):\n",
        "        \"\"\"Generate a formatted delivery note.\"\"\"\n",
        "        print(f\"Delivery Note {self.__note_id}: {self.__order_details}, Generated on {self.__timestamp}\")\n",
        "\n",
        "\n",
        "#4.a.Create objects of all identified classes.\n",
        "#Scenarios with randomly chosen values\n",
        "customer1 = Customer(\"Maryam Abdulsalam\", \"050-123-4567\", \"Dubai\")  # Updated customer details\n",
        "order1 = Order(53672, customer1, [\"Grilled Cheese Burger Slider\", \"Orange Juice\"], 35.5, \"Pending\") #Updated order details\n",
        "delivery1 = Delivery(53672, \"Sadiq\", \"40 minutes\")  # Delivery details\n",
        "note1 = DeliveryNote(158, order1.get_order_details(), \"2025-5-24 7:46:08\")  # Note details\n",
        "\n",
        "#4.b.Use these objects and their functions to populate and display the information provided in the figure.\n",
        "#Call method in order to print out information\n",
        "print(f\"Customer Name: {customer1.get_name()}\")\n",
        "print(f\"Customer Address: {customer1.get_address()}\")\n",
        "print(order1.get_order_details().replace('Total: 35.5', 'Total: 35.5dhs')) # Format total amount\n",
        "delivery1.update_status(\"Delivered\")\n",
        "note1.generate_note()"
      ],
      "metadata": {
        "colab": {
          "base_uri": "https://localhost:8080/",
          "height": 0
        },
        "id": "luPnlHYAK02P",
        "outputId": "5fa48fae-bf65-4843-ecda-77e88fce2c5f"
      },
      "execution_count": 3,
      "outputs": [
        {
          "output_type": "stream",
          "name": "stdout",
          "text": [
            "Customer Name: Maryam Abdulsalam\n",
            "Customer Address: Dubai\n",
            "Order 53672: ['Grilled Cheese Burger Slider', 'Orange Juice'], Total: 35.5dhs, Status: Pending\n",
            "Delivery status updated to Delivered for Order 53672.\n",
            "Delivery Note 158: Order 53672: ['Grilled Cheese Burger Slider', 'Orange Juice'], Total: 35.5, Status: Pending, Generated on 2025-5-24 7:46:08\n"
          ]
        }
      ]
    }
  ]
}